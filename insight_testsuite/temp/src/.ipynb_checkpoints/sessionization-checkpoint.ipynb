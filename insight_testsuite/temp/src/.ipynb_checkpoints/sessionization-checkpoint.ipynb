{
 "cells": [
  {
   "cell_type": "code",
   "execution_count": 785,
   "metadata": {
    "collapsed": false
   },
   "outputs": [],
   "source": [
    "# import libraries\n",
    "import pandas\n",
    "from datetime import datetime\n",
    "import sys\n",
    "import os"
   ]
  },
  {
   "cell_type": "code",
   "execution_count": null,
   "metadata": {
    "collapsed": true
   },
   "outputs": [],
   "source": [
    "# import arguments from the command line\n",
    "log_file = sys.argv[1]\n",
    "inactivity_file = sys.argv[2]\n",
    "output_file = sys.argv[3]"
   ]
  },
  {
   "cell_type": "code",
   "execution_count": 792,
   "metadata": {
    "collapsed": false
   },
   "outputs": [],
   "source": [
    "# import data\n",
    "log_file = pandas.read_csv(log_file, \n",
    "                           header=0,\n",
    "                           dtype = {'cik': object},\n",
    "                           parse_dates = {'datetime':['date','time']},\n",
    "                           usecols=[\"ip\", \n",
    "                                    \"date\", \n",
    "                                    \"time\",\n",
    "                                    \"cik\",\n",
    "                                    \"accession\",\n",
    "                                    \"extention\"])\n",
    "\n",
    "with open(inactivity_file) as file:\n",
    "    inactivity_period = int(file.read())\n",
    "    file.close()"
   ]
  },
  {
   "cell_type": "code",
   "execution_count": 793,
   "metadata": {
    "collapsed": false
   },
   "outputs": [],
   "source": [
    "# data formatting\n",
    "log_file['doc_name'] = log_file.cik + log_file.accession + log_file.extention\n",
    "\n",
    "log_file = log_file.drop(['cik', 'accession','extention'], axis=1)"
   ]
  },
  {
   "cell_type": "code",
   "execution_count": 794,
   "metadata": {
    "collapsed": false
   },
   "outputs": [],
   "source": [
    "# create empty dictionary to store ip session data\n",
    "ip_dict = {}"
   ]
  },
  {
   "cell_type": "code",
   "execution_count": 795,
   "metadata": {
    "collapsed": false
   },
   "outputs": [
    {
     "name": "stdout",
     "output_type": "stream",
     "text": [
      "Output already exists, appending\n"
     ]
    }
   ],
   "source": [
    "# file to write session information to\n",
    "\n",
    "fileout = output_file\n",
    "\n",
    "if os.path.exists(fileout):\n",
    "    print('Output already exists, appending')\n",
    "    append_write = 'a' # append if already exists\n",
    "else:\n",
    "    print('Output doesnt exist, creating new file')\n",
    "    append_write = 'w' # make a new file if not\n",
    "\n",
    "output_file = open(fileout,\n",
    "                   append_write)"
   ]
  },
  {
   "cell_type": "code",
   "execution_count": 796,
   "metadata": {
    "collapsed": false,
    "scrolled": false
   },
   "outputs": [],
   "source": [
    "counter = 0\n",
    "\n",
    "# iterate over log_file\n",
    "for row in log_file.itertuples():\n",
    "    \n",
    "    # retrieve ip address & time stamp of request\n",
    "    counter = counter + 1\n",
    "    ip_address = row[2]\n",
    "    current_timestamp = row[1]\n",
    "            \n",
    "    # check if ip_address has made document request & if time elapsed since\n",
    "    # exceeds session threshold else increment documents requested by 1\n",
    "    if ip_address in ip_dict:\n",
    "        \n",
    "        last_timestamp = ip_dict[ip_address]['last_request']\n",
    "        time_elapsed = current_timestamp - last_timestamp\n",
    "        if time_elapsed.seconds > inactivity_period:\n",
    "            duration = current_timestamp - ip_dict[ip_address]['first_request']\n",
    "            duration = duration.seconds + 1\n",
    "            output = [ip_address,\n",
    "                     str(ip_dict[ip_address]['first_request']),\n",
    "                     str(current_timestamp),\n",
    "                     duration,\n",
    "                     ip_dict[ip_address]['n_doc']]\n",
    "            output_file.write(\"%s\\n\" % ','.join(str(i) for i in output))\n",
    "            del ip_dict[ip_address]\n",
    "        else:\n",
    "            ip_dict[ip_address]['last_request'] = current_timestamp\n",
    "            ip_dict[ip_address]['n_doc'] = ip_dict[ip_address]['n_doc'] + 1\n",
    "            \n",
    "    # record ip_address request\n",
    "    else:\n",
    "        ip_dict[ip_address] = {}\n",
    "        ip_dict[ip_address]['first_request'] = current_timestamp\n",
    "        ip_dict[ip_address]['last_request'] = current_timestamp\n",
    "        ip_dict[ip_address]['n_doc'] = 1\n",
    "        ip_dict[ip_address]['index'] = counter\n",
    "    \n",
    "    # close out all sessions if last row of log_file\n",
    "    if len(log_file.index) == counter:\n",
    "        \n",
    "        ip_address_list = []\n",
    "        for _ip_adress in list(ip_dict):\n",
    "            ip_address_list.append(_ip_adress)\n",
    "        ip_address_list_sorted = sorted(ip_address_list,\n",
    "                                        key=lambda x: (ip_dict[x]['index']))\n",
    "        \n",
    "        for _ip_adress in ip_address_list_sorted:\n",
    "            duration = (ip_dict[_ip_adress]['last_request'] - ip_dict[_ip_adress]['first_request'])\n",
    "            duration = duration.seconds + 1\n",
    "            _output = [_ip_adress,\n",
    "                     str(ip_dict[_ip_adress]['first_request']),\n",
    "                     str(ip_dict[_ip_adress]['last_request']),\n",
    "                     duration,\n",
    "                     ip_dict[_ip_adress]['n_doc']]\n",
    "            output_file.write(\"%s\\n\" % ','.join(str(i) for i in _output))\n",
    "            del ip_dict[_ip_adress]\n",
    "    \n",
    "    # check if any recorded sessions in dictionary exceed session time treshold\n",
    "    for _ip_adress in list(ip_dict):\n",
    "        last_request = ip_dict[_ip_adress]['last_request']\n",
    "        time_elapsed = current_timestamp - last_request\n",
    "        if time_elapsed.seconds > inactivity_period:\n",
    "            duration = (last_request - ip_dict[_ip_adress]['first_request'])\n",
    "            duration = duration.seconds + 1\n",
    "            _output = [_ip_adress,\n",
    "                     str(ip_dict[_ip_adress]['first_request']),\n",
    "                     str(last_request),\n",
    "                     duration,\n",
    "                     ip_dict[_ip_adress]['n_doc']]\n",
    "            output_file.write(\"%s\\n\" % ','.join(str(i) for i in _output))\n",
    "            del ip_dict[_ip_adress]"
   ]
  },
  {
   "cell_type": "code",
   "execution_count": 797,
   "metadata": {
    "collapsed": false
   },
   "outputs": [],
   "source": [
    "output_file.close()"
   ]
  },
  {
   "cell_type": "code",
   "execution_count": null,
   "metadata": {
    "collapsed": true
   },
   "outputs": [],
   "source": []
  }
 ],
 "metadata": {
  "kernelspec": {
   "display_name": "Python [default]",
   "language": "python",
   "name": "python3"
  },
  "language_info": {
   "codemirror_mode": {
    "name": "ipython",
    "version": 3
   },
   "file_extension": ".py",
   "mimetype": "text/x-python",
   "name": "python",
   "nbconvert_exporter": "python",
   "pygments_lexer": "ipython3",
   "version": "3.4.5"
  }
 },
 "nbformat": 4,
 "nbformat_minor": 2
}
