{
 "cells": [
  {
   "cell_type": "code",
   "execution_count": 267,
   "metadata": {
    "collapsed": false
   },
   "outputs": [],
   "source": [
    "# import libraries\n",
    "import pandas\n",
    "from datetime import datetime"
   ]
  },
  {
   "cell_type": "code",
   "execution_count": 268,
   "metadata": {
    "collapsed": false
   },
   "outputs": [],
   "source": [
    "# import data\n",
    "directory = '/Users/tobiamartens/Desktop/edgar-analytics/input/'\n",
    "\n",
    "log_file = pandas.read_csv(directory + 'test.csv', \n",
    "                           header=0,\n",
    "                           dtype = {'cik': object},\n",
    "                           parse_dates = {'datetime':['date','time']},\n",
    "                           usecols=[\"ip\", \n",
    "                                    \"date\", \n",
    "                                    \"time\",\n",
    "                                    \"cik\",\n",
    "                                    \"accession\",\n",
    "                                    \"extention\"])\n",
    "\n",
    "with open(directory + 'inactivity_period.txt') as file:\n",
    "    inactivity_period = int(file.read())\n",
    "    file.close()"
   ]
  },
  {
   "cell_type": "code",
   "execution_count": 269,
   "metadata": {
    "collapsed": false
   },
   "outputs": [],
   "source": [
    "# data formatting\n",
    "log_file['doc_name'] = log_file.cik + log_file.accession + log_file.extention\n",
    "\n",
    "log_file = log_file.drop(['cik', 'accession','extention'], axis=1)"
   ]
  },
  {
   "cell_type": "code",
   "execution_count": 270,
   "metadata": {
    "collapsed": false
   },
   "outputs": [],
   "source": [
    "# create empty dictionary\n",
    "ip_dict = {}"
   ]
  },
  {
   "cell_type": "code",
   "execution_count": 276,
   "metadata": {
    "collapsed": false
   },
   "outputs": [
    {
     "data": {
      "text/plain": [
       "[[4, 5], [1, 2, 3]]"
      ]
     },
     "execution_count": 276,
     "metadata": {},
     "output_type": "execute_result"
    }
   ],
   "source": [
    "# create empty list to store sessionization output"
   ]
  },
  {
   "cell_type": "code",
   "execution_count": 272,
   "metadata": {
    "collapsed": false
   },
   "outputs": [
    {
     "name": "stdout",
     "output_type": "stream",
     "text": [
      "ip address not yet in dict\n",
      "ip address not yet in dict\n",
      "Still in the same session\n",
      "Session Ended\n",
      "ip address not yet in dict\n",
      "ip address not yet in dict\n",
      "ip address not yet in dict\n",
      "Session Ended\n",
      "Session Ended\n",
      "Session Ended\n"
     ]
    }
   ],
   "source": [
    "for row in log_file.itertuples():\n",
    "    \n",
    "    ip_address = row[2]\n",
    "    \n",
    "    current_timestamp = row[1]\n",
    "    \n",
    "    if ip_address in ip_dict:\n",
    "        \n",
    "        last_timestamp = ip_dict[ip_address]['last_request']\n",
    "        \n",
    "        time_elapsed = last_timestamp - current_timestamp\n",
    "        \n",
    "        if time_elapsed.seconds >= inactivity_period:\n",
    "            \n",
    "            print('Session Ended')\n",
    "            \n",
    "            duration = current_timestamp - ip_dict[ip_address]['first_request']\n",
    "            \n",
    "            output = [ip_address,\n",
    "                     ip_dict[ip_address]['first_request'],\n",
    "                     current_timestamp,\n",
    "                     duration,\n",
    "                     ip_dict[ip_address]['n_doc'] \n",
    "                     \n",
    "        \n",
    "        else:\n",
    "            \n",
    "            print('Still in the same session')\n",
    "            \n",
    "            ip_dict[ip_address]['last_request'] = current_timestamp\n",
    "            ip_dict[ip_address]['n_doc'] = ip_dict[ip_address]['n_doc'] + 1\n",
    "    \n",
    "    else:\n",
    "        print('ip address not yet in dict')\n",
    "        ip_dict[ip_address] = {}\n",
    "        ip_dict[ip_address]['first_request'] = current_timestamp\n",
    "        ip_dict[ip_address]['last_request'] = current_timestamp\n",
    "        ip_dict[ip_address]['n_doc'] = 1"
   ]
  },
  {
   "cell_type": "code",
   "execution_count": 258,
   "metadata": {
    "collapsed": false
   },
   "outputs": [],
   "source": [
    "file = open('/Users/tobiamartens/Desktop/edgar-analytics/output/sessionization.txt','w')"
   ]
  },
  {
   "cell_type": "code",
   "execution_count": 273,
   "metadata": {
    "collapsed": false
   },
   "outputs": [
    {
     "data": {
      "text/plain": [
       "{'101.81.133.jja': {'first_request': Timestamp('2017-06-30 00:00:00'),\n",
       "  'last_request': Timestamp('2017-06-30 00:00:00'),\n",
       "  'n_doc': 1},\n",
       " '106.120.173.jie': {'first_request': Timestamp('2017-06-30 00:00:02'),\n",
       "  'last_request': Timestamp('2017-06-30 00:00:02'),\n",
       "  'n_doc': 1},\n",
       " '107.178.195.aag': {'first_request': Timestamp('2017-06-30 00:00:02'),\n",
       "  'last_request': Timestamp('2017-06-30 00:00:02'),\n",
       "  'n_doc': 1},\n",
       " '107.23.85.jfd': {'first_request': Timestamp('2017-06-30 00:00:00'),\n",
       "  'last_request': Timestamp('2017-06-30 00:00:00'),\n",
       "  'n_doc': 2},\n",
       " '108.91.91.hbc': {'first_request': Timestamp('2017-06-30 00:00:01'),\n",
       "  'last_request': Timestamp('2017-06-30 00:00:01'),\n",
       "  'n_doc': 1}}"
      ]
     },
     "execution_count": 273,
     "metadata": {},
     "output_type": "execute_result"
    }
   ],
   "source": [
    "ip_dict"
   ]
  },
  {
   "cell_type": "code",
   "execution_count": 263,
   "metadata": {
    "collapsed": false
   },
   "outputs": [
    {
     "data": {
      "text/html": [
       "<div>\n",
       "<table border=\"1\" class=\"dataframe\">\n",
       "  <thead>\n",
       "    <tr style=\"text-align: right;\">\n",
       "      <th></th>\n",
       "      <th>datetime</th>\n",
       "      <th>ip</th>\n",
       "      <th>doc_name</th>\n",
       "    </tr>\n",
       "  </thead>\n",
       "  <tbody>\n",
       "    <tr>\n",
       "      <th>0</th>\n",
       "      <td>2017-06-30 00:00:00</td>\n",
       "      <td>101.81.133.jja</td>\n",
       "      <td>16085520001047469-17-004337-index.htm</td>\n",
       "    </tr>\n",
       "    <tr>\n",
       "      <th>1</th>\n",
       "      <td>2017-06-30 00:00:00</td>\n",
       "      <td>107.23.85.jfd</td>\n",
       "      <td>10272810000898430-02-001167-index.htm</td>\n",
       "    </tr>\n",
       "    <tr>\n",
       "      <th>2</th>\n",
       "      <td>2017-06-30 00:00:00</td>\n",
       "      <td>107.23.85.jfd</td>\n",
       "      <td>11368940000905148-07-003827-index.htm</td>\n",
       "    </tr>\n",
       "    <tr>\n",
       "      <th>3</th>\n",
       "      <td>2017-06-30 00:00:01</td>\n",
       "      <td>107.23.85.jfd</td>\n",
       "      <td>8415350000841535-98-000002-index.html</td>\n",
       "    </tr>\n",
       "    <tr>\n",
       "      <th>4</th>\n",
       "      <td>2017-06-30 00:00:01</td>\n",
       "      <td>108.91.91.hbc</td>\n",
       "      <td>12953910001209784-17-000052.txt</td>\n",
       "    </tr>\n",
       "    <tr>\n",
       "      <th>5</th>\n",
       "      <td>2017-06-30 00:00:02</td>\n",
       "      <td>106.120.173.jie</td>\n",
       "      <td>14706830001144204-14-046448v385454_20fa.htm</td>\n",
       "    </tr>\n",
       "    <tr>\n",
       "      <th>6</th>\n",
       "      <td>2017-06-30 00:00:02</td>\n",
       "      <td>107.178.195.aag</td>\n",
       "      <td>10681240000350001-15-000854-xbrl.zip</td>\n",
       "    </tr>\n",
       "    <tr>\n",
       "      <th>7</th>\n",
       "      <td>2017-06-30 00:00:03</td>\n",
       "      <td>107.23.85.jfd</td>\n",
       "      <td>8428140000842814-98-000001-index.html</td>\n",
       "    </tr>\n",
       "    <tr>\n",
       "      <th>8</th>\n",
       "      <td>2017-06-30 00:00:04</td>\n",
       "      <td>107.178.195.aag</td>\n",
       "      <td>10681240000350001-15-000731-xbrl.zip</td>\n",
       "    </tr>\n",
       "    <tr>\n",
       "      <th>9</th>\n",
       "      <td>2017-06-30 00:00:04</td>\n",
       "      <td>108.91.91.hbc</td>\n",
       "      <td>16181740001140361-17-026711.txt</td>\n",
       "    </tr>\n",
       "  </tbody>\n",
       "</table>\n",
       "</div>"
      ],
      "text/plain": [
       "             datetime               ip  \\\n",
       "0 2017-06-30 00:00:00   101.81.133.jja   \n",
       "1 2017-06-30 00:00:00    107.23.85.jfd   \n",
       "2 2017-06-30 00:00:00    107.23.85.jfd   \n",
       "3 2017-06-30 00:00:01    107.23.85.jfd   \n",
       "4 2017-06-30 00:00:01    108.91.91.hbc   \n",
       "5 2017-06-30 00:00:02  106.120.173.jie   \n",
       "6 2017-06-30 00:00:02  107.178.195.aag   \n",
       "7 2017-06-30 00:00:03    107.23.85.jfd   \n",
       "8 2017-06-30 00:00:04  107.178.195.aag   \n",
       "9 2017-06-30 00:00:04    108.91.91.hbc   \n",
       "\n",
       "                                      doc_name  \n",
       "0        16085520001047469-17-004337-index.htm  \n",
       "1        10272810000898430-02-001167-index.htm  \n",
       "2        11368940000905148-07-003827-index.htm  \n",
       "3        8415350000841535-98-000002-index.html  \n",
       "4              12953910001209784-17-000052.txt  \n",
       "5  14706830001144204-14-046448v385454_20fa.htm  \n",
       "6         10681240000350001-15-000854-xbrl.zip  \n",
       "7        8428140000842814-98-000001-index.html  \n",
       "8         10681240000350001-15-000731-xbrl.zip  \n",
       "9              16181740001140361-17-026711.txt  "
      ]
     },
     "execution_count": 263,
     "metadata": {},
     "output_type": "execute_result"
    }
   ],
   "source": [
    "log_file"
   ]
  },
  {
   "cell_type": "code",
   "execution_count": null,
   "metadata": {
    "collapsed": true
   },
   "outputs": [],
   "source": []
  }
 ],
 "metadata": {
  "kernelspec": {
   "display_name": "Python [default]",
   "language": "python",
   "name": "python3"
  },
  "language_info": {
   "codemirror_mode": {
    "name": "ipython",
    "version": 3
   },
   "file_extension": ".py",
   "mimetype": "text/x-python",
   "name": "python",
   "nbconvert_exporter": "python",
   "pygments_lexer": "ipython3",
   "version": "3.4.5"
  }
 },
 "nbformat": 4,
 "nbformat_minor": 2
}
